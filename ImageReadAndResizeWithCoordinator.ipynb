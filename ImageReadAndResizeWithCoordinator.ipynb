{
 "cells": [
  {
   "cell_type": "code",
   "execution_count": 1,
   "metadata": {
    "collapsed": false,
    "deletable": true,
    "editable": true
   },
   "outputs": [
    {
     "name": "stderr",
     "output_type": "stream",
     "text": [
      "/usr/local/envs/py2env/lib/python2.7/site-packages/h5py/__init__.py:36: FutureWarning: Conversion of the second argument of issubdtype from `float` to `np.floating` is deprecated. In future, it will be treated as `np.float64 == np.dtype(float).type`.\n",
      "  from ._conv import register_converters as _register_converters\n"
     ]
    }
   ],
   "source": [
    "import tensorflow as tf\n",
    "import google.datalab.ml as ml"
   ]
  },
  {
   "cell_type": "code",
   "execution_count": 2,
   "metadata": {
    "collapsed": true,
    "deletable": true,
    "editable": true
   },
   "outputs": [],
   "source": [
    "original_image_list = [\"./images/lala.jpg\", \n",
    "                       \"./images/bull.jpg\"]"
   ]
  },
  {
   "cell_type": "code",
   "execution_count": 3,
   "metadata": {
    "collapsed": true,
    "deletable": true,
    "editable": true
   },
   "outputs": [],
   "source": [
    "# Make a queue of file names including all the images specified.\n",
    "filename_queue = tf.train.string_input_producer(original_image_list)"
   ]
  },
  {
   "cell_type": "code",
   "execution_count": 4,
   "metadata": {
    "collapsed": true,
    "deletable": true,
    "editable": true
   },
   "outputs": [],
   "source": [
    "# Read an entire image file.\n",
    "image_reader = tf.WholeFileReader()"
   ]
  },
  {
   "cell_type": "code",
   "execution_count": 5,
   "metadata": {
    "collapsed": false,
    "deletable": true,
    "editable": true
   },
   "outputs": [
    {
     "name": "stdout",
     "output_type": "stream",
     "text": [
      "(224, 224, 3)\n",
      "(224, 224, 3)\n"
     ]
    }
   ],
   "source": [
    "with tf.Session() as sess:\n",
    "    # Coordinate the loading of image files.\n",
    "    coord = tf.train.Coordinator()\n",
    "    threads = tf.train.start_queue_runners(sess=sess, coord=coord)\n",
    "\n",
    "    image_list = [];\n",
    "    for i in range(len(original_image_list)):\n",
    "        # Read a whole file from the queue, the first returned value in the tuple is the\n",
    "        # filename which we are ignoring.\n",
    "        _, image_file = image_reader.read(filename_queue)\n",
    "\n",
    "        # Decode the image as a JPEG file, this will turn it into a Tensor which we can\n",
    "        # then use in training.\n",
    "        image = tf.image.decode_jpeg(image_file)\n",
    "\n",
    "        # Get a tensor of resized images.\n",
    "        image = tf.image.resize_images(image, [224, 224])\n",
    "        image.set_shape((224, 224, 3))\n",
    "\n",
    "        # Get an image tensor and print its value.\n",
    "        image_array = sess.run(image)\n",
    "        print image_array.shape\n",
    "\n",
    "        # The expand_dims adds a new dimension\n",
    "        image_list.append(tf.expand_dims(image_array, 0))\n",
    "\n",
    "    # Finish off the filename queue coordinator.\n",
    "    coord.request_stop()\n",
    "    coord.join(threads)\n",
    "    index = 0\n",
    "\n",
    "    # Write image summary\n",
    "    summary_writer = tf.summary.FileWriter('./ImageReadAndResizeWithCoordinator', graph=sess.graph)\n",
    "\n",
    "    for image_tensor in image_list:\n",
    "        summary_str = sess.run(tf.summary.image(\"image-\" + str(index), image_tensor))\n",
    "        summary_writer.add_summary(summary_str)\n",
    "        index += 1\n",
    "\n",
    "    summary_writer.close()"
   ]
  },
  {
   "cell_type": "code",
   "execution_count": 6,
   "metadata": {
    "collapsed": false,
    "deletable": true,
    "editable": true
   },
   "outputs": [
    {
     "data": {
      "text/html": [
       "<p>TensorBoard was started successfully with pid 3747. Click <a href=\"/_proxy/56859/\" target=\"_blank\">here</a> to access it.</p>"
      ]
     },
     "metadata": {},
     "output_type": "display_data"
    }
   ],
   "source": [
    "tensorboard_pid = ml.TensorBoard.start('./ImageReadAndResizeWithCoordinator')"
   ]
  },
  {
   "cell_type": "code",
   "execution_count": 7,
   "metadata": {
    "collapsed": false,
    "deletable": true,
    "editable": true
   },
   "outputs": [],
   "source": [
    "ml.TensorBoard.stop(tensorboard_pid)"
   ]
  },
  {
   "cell_type": "code",
   "execution_count": null,
   "metadata": {
    "collapsed": true,
    "deletable": true,
    "editable": true
   },
   "outputs": [],
   "source": []
  }
 ],
 "metadata": {
  "kernelspec": {
   "display_name": "Python 2",
   "language": "python",
   "name": "python2"
  },
  "language_info": {
   "codemirror_mode": {
    "name": "ipython",
    "version": 2
   },
   "file_extension": ".py",
   "mimetype": "text/x-python",
   "name": "python",
   "nbconvert_exporter": "python",
   "pygments_lexer": "ipython2",
   "version": "2.7.14"
  }
 },
 "nbformat": 4,
 "nbformat_minor": 2
}
