{
 "cells": [
  {
   "cell_type": "code",
   "execution_count": 1,
   "metadata": {
    "collapsed": true
   },
   "outputs": [],
   "source": [
    "from __future__ import absolute_import\n",
    "from __future__ import division\n",
    "from __future__ import print_function"
   ]
  },
  {
   "cell_type": "code",
   "execution_count": 2,
   "metadata": {
    "collapsed": true
   },
   "outputs": [],
   "source": [
    "import os\n",
    "import collections\n",
    "import itertools"
   ]
  },
  {
   "cell_type": "code",
   "execution_count": null,
   "metadata": {
    "collapsed": false
   },
   "outputs": [],
   "source": [
    "import numpy as np\n",
    "import pandas as pd\n",
    "import tensorflow as tf"
   ]
  },
  {
   "cell_type": "code",
   "execution_count": 4,
   "metadata": {
    "collapsed": true
   },
   "outputs": [],
   "source": [
    "from six.moves import urllib"
   ]
  },
  {
   "cell_type": "code",
   "execution_count": 6,
   "metadata": {
    "collapsed": false
   },
   "outputs": [
    {
     "name": "stdout",
     "output_type": "stream",
     "text": [
      "Found and verified file from this path:  https://archive.ics.uci.edu/ml/machine-learning-databases/autos/imports-85.data\n",
      "Downloaded file:  automobiles.csv\n"
     ]
    }
   ],
   "source": [
    "URL_PATH = 'https://archive.ics.uci.edu/ml/machine-learning-databases/autos/imports-85.data'\n",
    "DOWNLOADED_FILENAME = 'automobiles.csv'\n",
    "\n",
    "def download_data():\n",
    "  if not os.path.exists(DOWNLOADED_FILENAME):\n",
    "    filename, _ = urllib.request.urlretrieve(URL_PATH, DOWNLOADED_FILENAME)\n",
    "  print('Found and verified file from this path: ', URL_PATH)\n",
    "  print('Downloaded file: ', DOWNLOADED_FILENAME)\n",
    "\n",
    "download_data()"
   ]
  },
  {
   "cell_type": "code",
   "execution_count": 7,
   "metadata": {
    "collapsed": true
   },
   "outputs": [],
   "source": [
    "COLUMN_TYPES = collections.OrderedDict([\n",
    "  ('symboling',int),\n",
    "  ('normalized-losses',float),\n",
    "  ('make',str),\n",
    "  ('fuel-type',str),\n",
    "  ('aspiration',str),\n",
    "  ('num-of-doors',str),\n",
    "  ('body-style',str),\n",
    "  ('drive-wheels',str),\n",
    "  ('engine-location',str),\n",
    "  ('wheel-base',float),\n",
    "  ('length',float),\n",
    "  ('width',float),\n",
    "  ('height',float),\n",
    "  ('curb-weight',float),\n",
    "  ('engine-type',str),\n",
    "  ('num-of-cylinders',str),\n",
    "  ('engine-size',float),\n",
    "  ('fuel-system',str),\n",
    "  ('bore',float),\n",
    "  ('stroke',float),\n",
    "  ('compression-ratio',float),\n",
    "  ('horsepower',float),\n",
    "  ('peak-rpm',float),\n",
    "  ('city-mpg',float),\n",
    "  ('highway-mpg',float),\n",
    "  ('price',float),\n",
    "])"
   ]
  },
  {
   "cell_type": "code",
   "execution_count": 8,
   "metadata": {
    "collapsed": true
   },
   "outputs": [],
   "source": [
    "df = pd.read_csv(DOWNLOADED_FILENAME, names=COLUMN_TYPES.keys(), dtype=COLUMN_TYPES, na_values='?')"
   ]
  },
  {
   "cell_type": "code",
   "execution_count": 9,
   "metadata": {
    "collapsed": false
   },
   "outputs": [
    {
     "data": {
      "text/html": [
       "<div>\n",
       "<style scoped>\n",
       "    .dataframe tbody tr th:only-of-type {\n",
       "        vertical-align: middle;\n",
       "    }\n",
       "\n",
       "    .dataframe tbody tr th {\n",
       "        vertical-align: top;\n",
       "    }\n",
       "\n",
       "    .dataframe thead th {\n",
       "        text-align: right;\n",
       "    }\n",
       "</style>\n",
       "<table border=\"1\" class=\"dataframe\">\n",
       "  <thead>\n",
       "    <tr style=\"text-align: right;\">\n",
       "      <th></th>\n",
       "      <th>symboling</th>\n",
       "      <th>normalized-losses</th>\n",
       "      <th>make</th>\n",
       "      <th>fuel-type</th>\n",
       "      <th>aspiration</th>\n",
       "      <th>num-of-doors</th>\n",
       "      <th>body-style</th>\n",
       "      <th>drive-wheels</th>\n",
       "      <th>engine-location</th>\n",
       "      <th>wheel-base</th>\n",
       "      <th>...</th>\n",
       "      <th>engine-size</th>\n",
       "      <th>fuel-system</th>\n",
       "      <th>bore</th>\n",
       "      <th>stroke</th>\n",
       "      <th>compression-ratio</th>\n",
       "      <th>horsepower</th>\n",
       "      <th>peak-rpm</th>\n",
       "      <th>city-mpg</th>\n",
       "      <th>highway-mpg</th>\n",
       "      <th>price</th>\n",
       "    </tr>\n",
       "  </thead>\n",
       "  <tbody>\n",
       "    <tr>\n",
       "      <th>0</th>\n",
       "      <td>3</td>\n",
       "      <td>NaN</td>\n",
       "      <td>alfa-romero</td>\n",
       "      <td>gas</td>\n",
       "      <td>std</td>\n",
       "      <td>two</td>\n",
       "      <td>convertible</td>\n",
       "      <td>rwd</td>\n",
       "      <td>front</td>\n",
       "      <td>88.6</td>\n",
       "      <td>...</td>\n",
       "      <td>130.0</td>\n",
       "      <td>mpfi</td>\n",
       "      <td>3.47</td>\n",
       "      <td>2.68</td>\n",
       "      <td>9.0</td>\n",
       "      <td>111.0</td>\n",
       "      <td>5000.0</td>\n",
       "      <td>21.0</td>\n",
       "      <td>27.0</td>\n",
       "      <td>13495.0</td>\n",
       "    </tr>\n",
       "    <tr>\n",
       "      <th>1</th>\n",
       "      <td>3</td>\n",
       "      <td>NaN</td>\n",
       "      <td>alfa-romero</td>\n",
       "      <td>gas</td>\n",
       "      <td>std</td>\n",
       "      <td>two</td>\n",
       "      <td>convertible</td>\n",
       "      <td>rwd</td>\n",
       "      <td>front</td>\n",
       "      <td>88.6</td>\n",
       "      <td>...</td>\n",
       "      <td>130.0</td>\n",
       "      <td>mpfi</td>\n",
       "      <td>3.47</td>\n",
       "      <td>2.68</td>\n",
       "      <td>9.0</td>\n",
       "      <td>111.0</td>\n",
       "      <td>5000.0</td>\n",
       "      <td>21.0</td>\n",
       "      <td>27.0</td>\n",
       "      <td>16500.0</td>\n",
       "    </tr>\n",
       "    <tr>\n",
       "      <th>2</th>\n",
       "      <td>1</td>\n",
       "      <td>NaN</td>\n",
       "      <td>alfa-romero</td>\n",
       "      <td>gas</td>\n",
       "      <td>std</td>\n",
       "      <td>two</td>\n",
       "      <td>hatchback</td>\n",
       "      <td>rwd</td>\n",
       "      <td>front</td>\n",
       "      <td>94.5</td>\n",
       "      <td>...</td>\n",
       "      <td>152.0</td>\n",
       "      <td>mpfi</td>\n",
       "      <td>2.68</td>\n",
       "      <td>3.47</td>\n",
       "      <td>9.0</td>\n",
       "      <td>154.0</td>\n",
       "      <td>5000.0</td>\n",
       "      <td>19.0</td>\n",
       "      <td>26.0</td>\n",
       "      <td>16500.0</td>\n",
       "    </tr>\n",
       "    <tr>\n",
       "      <th>3</th>\n",
       "      <td>2</td>\n",
       "      <td>164.0</td>\n",
       "      <td>audi</td>\n",
       "      <td>gas</td>\n",
       "      <td>std</td>\n",
       "      <td>four</td>\n",
       "      <td>sedan</td>\n",
       "      <td>fwd</td>\n",
       "      <td>front</td>\n",
       "      <td>99.8</td>\n",
       "      <td>...</td>\n",
       "      <td>109.0</td>\n",
       "      <td>mpfi</td>\n",
       "      <td>3.19</td>\n",
       "      <td>3.40</td>\n",
       "      <td>10.0</td>\n",
       "      <td>102.0</td>\n",
       "      <td>5500.0</td>\n",
       "      <td>24.0</td>\n",
       "      <td>30.0</td>\n",
       "      <td>13950.0</td>\n",
       "    </tr>\n",
       "    <tr>\n",
       "      <th>4</th>\n",
       "      <td>2</td>\n",
       "      <td>164.0</td>\n",
       "      <td>audi</td>\n",
       "      <td>gas</td>\n",
       "      <td>std</td>\n",
       "      <td>four</td>\n",
       "      <td>sedan</td>\n",
       "      <td>4wd</td>\n",
       "      <td>front</td>\n",
       "      <td>99.4</td>\n",
       "      <td>...</td>\n",
       "      <td>136.0</td>\n",
       "      <td>mpfi</td>\n",
       "      <td>3.19</td>\n",
       "      <td>3.40</td>\n",
       "      <td>8.0</td>\n",
       "      <td>115.0</td>\n",
       "      <td>5500.0</td>\n",
       "      <td>18.0</td>\n",
       "      <td>22.0</td>\n",
       "      <td>17450.0</td>\n",
       "    </tr>\n",
       "  </tbody>\n",
       "</table>\n",
       "<p>5 rows × 26 columns</p>\n",
       "</div>"
      ],
      "text/plain": [
       "   symboling  normalized-losses         make fuel-type aspiration  \\\n",
       "0          3                NaN  alfa-romero       gas        std   \n",
       "1          3                NaN  alfa-romero       gas        std   \n",
       "2          1                NaN  alfa-romero       gas        std   \n",
       "3          2              164.0         audi       gas        std   \n",
       "4          2              164.0         audi       gas        std   \n",
       "\n",
       "  num-of-doors   body-style drive-wheels engine-location  wheel-base   ...     \\\n",
       "0          two  convertible          rwd           front        88.6   ...      \n",
       "1          two  convertible          rwd           front        88.6   ...      \n",
       "2          two    hatchback          rwd           front        94.5   ...      \n",
       "3         four        sedan          fwd           front        99.8   ...      \n",
       "4         four        sedan          4wd           front        99.4   ...      \n",
       "\n",
       "   engine-size  fuel-system  bore  stroke compression-ratio horsepower  \\\n",
       "0        130.0         mpfi  3.47    2.68               9.0      111.0   \n",
       "1        130.0         mpfi  3.47    2.68               9.0      111.0   \n",
       "2        152.0         mpfi  2.68    3.47               9.0      154.0   \n",
       "3        109.0         mpfi  3.19    3.40              10.0      102.0   \n",
       "4        136.0         mpfi  3.19    3.40               8.0      115.0   \n",
       "\n",
       "   peak-rpm city-mpg  highway-mpg    price  \n",
       "0    5000.0     21.0         27.0  13495.0  \n",
       "1    5000.0     21.0         27.0  16500.0  \n",
       "2    5000.0     19.0         26.0  16500.0  \n",
       "3    5500.0     24.0         30.0  13950.0  \n",
       "4    5500.0     18.0         22.0  17450.0  \n",
       "\n",
       "[5 rows x 26 columns]"
      ]
     },
     "execution_count": 9,
     "metadata": {},
     "output_type": "execute_result"
    }
   ],
   "source": [
    "df.head()"
   ]
  },
  {
   "cell_type": "code",
   "execution_count": 10,
   "metadata": {
    "collapsed": false
   },
   "outputs": [
    {
     "data": {
      "text/plain": [
       "symboling            205\n",
       "normalized-losses    164\n",
       "make                 205\n",
       "fuel-type            205\n",
       "aspiration           205\n",
       "num-of-doors         203\n",
       "body-style           205\n",
       "drive-wheels         205\n",
       "engine-location      205\n",
       "wheel-base           205\n",
       "length               205\n",
       "width                205\n",
       "height               205\n",
       "curb-weight          205\n",
       "engine-type          205\n",
       "num-of-cylinders     205\n",
       "engine-size          205\n",
       "fuel-system          205\n",
       "bore                 201\n",
       "stroke               201\n",
       "compression-ratio    205\n",
       "horsepower           203\n",
       "peak-rpm             203\n",
       "city-mpg             205\n",
       "highway-mpg          205\n",
       "price                201\n",
       "dtype: int64"
      ]
     },
     "execution_count": 10,
     "metadata": {},
     "output_type": "execute_result"
    }
   ],
   "source": [
    "df.count()"
   ]
  },
  {
   "cell_type": "code",
   "execution_count": 11,
   "metadata": {
    "collapsed": false
   },
   "outputs": [
    {
     "data": {
      "text/plain": [
       "symboling            159\n",
       "normalized-losses    159\n",
       "make                 159\n",
       "fuel-type            159\n",
       "aspiration           159\n",
       "num-of-doors         159\n",
       "body-style           159\n",
       "drive-wheels         159\n",
       "engine-location      159\n",
       "wheel-base           159\n",
       "length               159\n",
       "width                159\n",
       "height               159\n",
       "curb-weight          159\n",
       "engine-type          159\n",
       "num-of-cylinders     159\n",
       "engine-size          159\n",
       "fuel-system          159\n",
       "bore                 159\n",
       "stroke               159\n",
       "compression-ratio    159\n",
       "horsepower           159\n",
       "peak-rpm             159\n",
       "city-mpg             159\n",
       "highway-mpg          159\n",
       "price                159\n",
       "dtype: int64"
      ]
     },
     "execution_count": 11,
     "metadata": {},
     "output_type": "execute_result"
    }
   ],
   "source": [
    "df = df.dropna()\n",
    "df.count()"
   ]
  },
  {
   "cell_type": "code",
   "execution_count": 12,
   "metadata": {
    "collapsed": true
   },
   "outputs": [],
   "source": [
    "TRIMMED_CSV_COLUMNS = [\n",
    "  'make', 'fuel-type', 'aspiration', 'num-of-doors', 'body-style', 'drive-wheels', 'curb-weight', 'engine-type', 'num-of-cylinders', 'engine-size', 'fuel-system', 'horsepower', 'peak-rpm', 'city-mpg', 'highway-mpg', 'price'\n",
    "]"
   ]
  },
  {
   "cell_type": "code",
   "execution_count": 13,
   "metadata": {
    "collapsed": false
   },
   "outputs": [
    {
     "data": {
      "text/html": [
       "<div>\n",
       "<style scoped>\n",
       "    .dataframe tbody tr th:only-of-type {\n",
       "        vertical-align: middle;\n",
       "    }\n",
       "\n",
       "    .dataframe tbody tr th {\n",
       "        vertical-align: top;\n",
       "    }\n",
       "\n",
       "    .dataframe thead th {\n",
       "        text-align: right;\n",
       "    }\n",
       "</style>\n",
       "<table border=\"1\" class=\"dataframe\">\n",
       "  <thead>\n",
       "    <tr style=\"text-align: right;\">\n",
       "      <th></th>\n",
       "      <th>make</th>\n",
       "      <th>fuel-type</th>\n",
       "      <th>aspiration</th>\n",
       "      <th>num-of-doors</th>\n",
       "      <th>body-style</th>\n",
       "      <th>drive-wheels</th>\n",
       "      <th>curb-weight</th>\n",
       "      <th>engine-type</th>\n",
       "      <th>num-of-cylinders</th>\n",
       "      <th>engine-size</th>\n",
       "      <th>fuel-system</th>\n",
       "      <th>horsepower</th>\n",
       "      <th>peak-rpm</th>\n",
       "      <th>city-mpg</th>\n",
       "      <th>highway-mpg</th>\n",
       "      <th>price</th>\n",
       "    </tr>\n",
       "  </thead>\n",
       "  <tbody>\n",
       "    <tr>\n",
       "      <th>3</th>\n",
       "      <td>audi</td>\n",
       "      <td>gas</td>\n",
       "      <td>std</td>\n",
       "      <td>four</td>\n",
       "      <td>sedan</td>\n",
       "      <td>fwd</td>\n",
       "      <td>2337.0</td>\n",
       "      <td>ohc</td>\n",
       "      <td>four</td>\n",
       "      <td>109.0</td>\n",
       "      <td>mpfi</td>\n",
       "      <td>102.0</td>\n",
       "      <td>5500.0</td>\n",
       "      <td>24.0</td>\n",
       "      <td>30.0</td>\n",
       "      <td>13950.0</td>\n",
       "    </tr>\n",
       "    <tr>\n",
       "      <th>4</th>\n",
       "      <td>audi</td>\n",
       "      <td>gas</td>\n",
       "      <td>std</td>\n",
       "      <td>four</td>\n",
       "      <td>sedan</td>\n",
       "      <td>4wd</td>\n",
       "      <td>2824.0</td>\n",
       "      <td>ohc</td>\n",
       "      <td>five</td>\n",
       "      <td>136.0</td>\n",
       "      <td>mpfi</td>\n",
       "      <td>115.0</td>\n",
       "      <td>5500.0</td>\n",
       "      <td>18.0</td>\n",
       "      <td>22.0</td>\n",
       "      <td>17450.0</td>\n",
       "    </tr>\n",
       "    <tr>\n",
       "      <th>6</th>\n",
       "      <td>audi</td>\n",
       "      <td>gas</td>\n",
       "      <td>std</td>\n",
       "      <td>four</td>\n",
       "      <td>sedan</td>\n",
       "      <td>fwd</td>\n",
       "      <td>2844.0</td>\n",
       "      <td>ohc</td>\n",
       "      <td>five</td>\n",
       "      <td>136.0</td>\n",
       "      <td>mpfi</td>\n",
       "      <td>110.0</td>\n",
       "      <td>5500.0</td>\n",
       "      <td>19.0</td>\n",
       "      <td>25.0</td>\n",
       "      <td>17710.0</td>\n",
       "    </tr>\n",
       "    <tr>\n",
       "      <th>8</th>\n",
       "      <td>audi</td>\n",
       "      <td>gas</td>\n",
       "      <td>turbo</td>\n",
       "      <td>four</td>\n",
       "      <td>sedan</td>\n",
       "      <td>fwd</td>\n",
       "      <td>3086.0</td>\n",
       "      <td>ohc</td>\n",
       "      <td>five</td>\n",
       "      <td>131.0</td>\n",
       "      <td>mpfi</td>\n",
       "      <td>140.0</td>\n",
       "      <td>5500.0</td>\n",
       "      <td>17.0</td>\n",
       "      <td>20.0</td>\n",
       "      <td>23875.0</td>\n",
       "    </tr>\n",
       "    <tr>\n",
       "      <th>10</th>\n",
       "      <td>bmw</td>\n",
       "      <td>gas</td>\n",
       "      <td>std</td>\n",
       "      <td>two</td>\n",
       "      <td>sedan</td>\n",
       "      <td>rwd</td>\n",
       "      <td>2395.0</td>\n",
       "      <td>ohc</td>\n",
       "      <td>four</td>\n",
       "      <td>108.0</td>\n",
       "      <td>mpfi</td>\n",
       "      <td>101.0</td>\n",
       "      <td>5800.0</td>\n",
       "      <td>23.0</td>\n",
       "      <td>29.0</td>\n",
       "      <td>16430.0</td>\n",
       "    </tr>\n",
       "  </tbody>\n",
       "</table>\n",
       "</div>"
      ],
      "text/plain": [
       "    make fuel-type aspiration num-of-doors body-style drive-wheels  \\\n",
       "3   audi       gas        std         four      sedan          fwd   \n",
       "4   audi       gas        std         four      sedan          4wd   \n",
       "6   audi       gas        std         four      sedan          fwd   \n",
       "8   audi       gas      turbo         four      sedan          fwd   \n",
       "10   bmw       gas        std          two      sedan          rwd   \n",
       "\n",
       "    curb-weight engine-type num-of-cylinders  engine-size fuel-system  \\\n",
       "3        2337.0         ohc             four        109.0        mpfi   \n",
       "4        2824.0         ohc             five        136.0        mpfi   \n",
       "6        2844.0         ohc             five        136.0        mpfi   \n",
       "8        3086.0         ohc             five        131.0        mpfi   \n",
       "10       2395.0         ohc             four        108.0        mpfi   \n",
       "\n",
       "    horsepower  peak-rpm  city-mpg  highway-mpg    price  \n",
       "3        102.0    5500.0      24.0         30.0  13950.0  \n",
       "4        115.0    5500.0      18.0         22.0  17450.0  \n",
       "6        110.0    5500.0      19.0         25.0  17710.0  \n",
       "8        140.0    5500.0      17.0         20.0  23875.0  \n",
       "10       101.0    5800.0      23.0         29.0  16430.0  "
      ]
     },
     "execution_count": 13,
     "metadata": {},
     "output_type": "execute_result"
    }
   ],
   "source": [
    "df = df[TRIMMED_CSV_COLUMNS]\n",
    "df.head()"
   ]
  },
  {
   "cell_type": "code",
   "execution_count": 17,
   "metadata": {
    "collapsed": true
   },
   "outputs": [],
   "source": [
    "Y_NAME = 'price'\n",
    "def get_training_test_prediction_data(df):\n",
    "  np.random.seed(None)\n",
    "  x_train = df.sample(frac=0.8, random_state=None)\n",
    "  x_test = df.drop(x_train.index)\n",
    "  x_predict = x_test.sample(frac=0.2, random_state=None)\n",
    "  \n",
    "  y_train = x_train.pop(Y_NAME)\n",
    "  y_test = x_test.pop(Y_NAME)\n",
    "  y_predict = x_predict.pop(Y_NAME)\n",
    "  \n",
    "  return (x_train, y_train), (x_test, y_test), (x_predict, y_predict)"
   ]
  },
  {
   "cell_type": "code",
   "execution_count": 18,
   "metadata": {
    "collapsed": false
   },
   "outputs": [],
   "source": [
    "(x_train, y_train), (x_test, y_test), (x_predict, y_predict) = get_training_test_prediction_data(df)"
   ]
  },
  {
   "cell_type": "code",
   "execution_count": 20,
   "metadata": {
    "collapsed": false
   },
   "outputs": [
    {
     "data": {
      "text/html": [
       "<div>\n",
       "<style scoped>\n",
       "    .dataframe tbody tr th:only-of-type {\n",
       "        vertical-align: middle;\n",
       "    }\n",
       "\n",
       "    .dataframe tbody tr th {\n",
       "        vertical-align: top;\n",
       "    }\n",
       "\n",
       "    .dataframe thead th {\n",
       "        text-align: right;\n",
       "    }\n",
       "</style>\n",
       "<table border=\"1\" class=\"dataframe\">\n",
       "  <thead>\n",
       "    <tr style=\"text-align: right;\">\n",
       "      <th></th>\n",
       "      <th>make</th>\n",
       "      <th>fuel-type</th>\n",
       "      <th>aspiration</th>\n",
       "      <th>num-of-doors</th>\n",
       "      <th>body-style</th>\n",
       "      <th>drive-wheels</th>\n",
       "      <th>curb-weight</th>\n",
       "      <th>engine-type</th>\n",
       "      <th>num-of-cylinders</th>\n",
       "      <th>engine-size</th>\n",
       "      <th>fuel-system</th>\n",
       "      <th>horsepower</th>\n",
       "      <th>peak-rpm</th>\n",
       "      <th>city-mpg</th>\n",
       "      <th>highway-mpg</th>\n",
       "    </tr>\n",
       "  </thead>\n",
       "  <tbody>\n",
       "    <tr>\n",
       "      <th>37</th>\n",
       "      <td>honda</td>\n",
       "      <td>gas</td>\n",
       "      <td>std</td>\n",
       "      <td>two</td>\n",
       "      <td>hatchback</td>\n",
       "      <td>fwd</td>\n",
       "      <td>2236.0</td>\n",
       "      <td>ohc</td>\n",
       "      <td>four</td>\n",
       "      <td>110.0</td>\n",
       "      <td>1bbl</td>\n",
       "      <td>86.0</td>\n",
       "      <td>5800.0</td>\n",
       "      <td>27.0</td>\n",
       "      <td>33.0</td>\n",
       "    </tr>\n",
       "    <tr>\n",
       "      <th>99</th>\n",
       "      <td>nissan</td>\n",
       "      <td>gas</td>\n",
       "      <td>std</td>\n",
       "      <td>four</td>\n",
       "      <td>hatchback</td>\n",
       "      <td>fwd</td>\n",
       "      <td>2324.0</td>\n",
       "      <td>ohc</td>\n",
       "      <td>four</td>\n",
       "      <td>120.0</td>\n",
       "      <td>2bbl</td>\n",
       "      <td>97.0</td>\n",
       "      <td>5200.0</td>\n",
       "      <td>27.0</td>\n",
       "      <td>34.0</td>\n",
       "    </tr>\n",
       "    <tr>\n",
       "      <th>10</th>\n",
       "      <td>bmw</td>\n",
       "      <td>gas</td>\n",
       "      <td>std</td>\n",
       "      <td>two</td>\n",
       "      <td>sedan</td>\n",
       "      <td>rwd</td>\n",
       "      <td>2395.0</td>\n",
       "      <td>ohc</td>\n",
       "      <td>four</td>\n",
       "      <td>108.0</td>\n",
       "      <td>mpfi</td>\n",
       "      <td>101.0</td>\n",
       "      <td>5800.0</td>\n",
       "      <td>23.0</td>\n",
       "      <td>29.0</td>\n",
       "    </tr>\n",
       "    <tr>\n",
       "      <th>33</th>\n",
       "      <td>honda</td>\n",
       "      <td>gas</td>\n",
       "      <td>std</td>\n",
       "      <td>two</td>\n",
       "      <td>hatchback</td>\n",
       "      <td>fwd</td>\n",
       "      <td>1940.0</td>\n",
       "      <td>ohc</td>\n",
       "      <td>four</td>\n",
       "      <td>92.0</td>\n",
       "      <td>1bbl</td>\n",
       "      <td>76.0</td>\n",
       "      <td>6000.0</td>\n",
       "      <td>30.0</td>\n",
       "      <td>34.0</td>\n",
       "    </tr>\n",
       "    <tr>\n",
       "      <th>32</th>\n",
       "      <td>honda</td>\n",
       "      <td>gas</td>\n",
       "      <td>std</td>\n",
       "      <td>two</td>\n",
       "      <td>hatchback</td>\n",
       "      <td>fwd</td>\n",
       "      <td>1837.0</td>\n",
       "      <td>ohc</td>\n",
       "      <td>four</td>\n",
       "      <td>79.0</td>\n",
       "      <td>1bbl</td>\n",
       "      <td>60.0</td>\n",
       "      <td>5500.0</td>\n",
       "      <td>38.0</td>\n",
       "      <td>42.0</td>\n",
       "    </tr>\n",
       "  </tbody>\n",
       "</table>\n",
       "</div>"
      ],
      "text/plain": [
       "      make fuel-type aspiration num-of-doors body-style drive-wheels  \\\n",
       "37   honda       gas        std          two  hatchback          fwd   \n",
       "99  nissan       gas        std         four  hatchback          fwd   \n",
       "10     bmw       gas        std          two      sedan          rwd   \n",
       "33   honda       gas        std          two  hatchback          fwd   \n",
       "32   honda       gas        std          two  hatchback          fwd   \n",
       "\n",
       "    curb-weight engine-type num-of-cylinders  engine-size fuel-system  \\\n",
       "37       2236.0         ohc             four        110.0        1bbl   \n",
       "99       2324.0         ohc             four        120.0        2bbl   \n",
       "10       2395.0         ohc             four        108.0        mpfi   \n",
       "33       1940.0         ohc             four         92.0        1bbl   \n",
       "32       1837.0         ohc             four         79.0        1bbl   \n",
       "\n",
       "    horsepower  peak-rpm  city-mpg  highway-mpg  \n",
       "37        86.0    5800.0      27.0         33.0  \n",
       "99        97.0    5200.0      27.0         34.0  \n",
       "10       101.0    5800.0      23.0         29.0  \n",
       "33        76.0    6000.0      30.0         34.0  \n",
       "32        60.0    5500.0      38.0         42.0  "
      ]
     },
     "execution_count": 20,
     "metadata": {},
     "output_type": "execute_result"
    }
   ],
   "source": [
    "x_train.head()"
   ]
  },
  {
   "cell_type": "code",
   "execution_count": 21,
   "metadata": {
    "collapsed": true
   },
   "outputs": [],
   "source": [
    "# neural network performs well with float number\n",
    "PRICE_SCALING_FACTOR = 10000\n",
    "y_train /= PRICE_SCALING_FACTOR\n",
    "y_test /= PRICE_SCALING_FACTOR"
   ]
  },
  {
   "cell_type": "code",
   "execution_count": 22,
   "metadata": {
    "collapsed": false
   },
   "outputs": [
    {
     "data": {
      "text/plain": [
       "array(['audi', 'bmw', 'chevrolet', 'dodge', 'honda', 'jaguar', 'mazda',\n",
       "       'mercedes-benz', 'mitsubishi', 'nissan', 'peugot', 'plymouth',\n",
       "       'porsche', 'saab', 'subaru', 'toyota', 'volkswagen', 'volvo'],\n",
       "      dtype=object)"
      ]
     },
     "execution_count": 22,
     "metadata": {},
     "output_type": "execute_result"
    }
   ],
   "source": [
    "df['make'].unique()"
   ]
  },
  {
   "cell_type": "code",
   "execution_count": 23,
   "metadata": {
    "collapsed": true
   },
   "outputs": [],
   "source": [
    "curb_weight = tf.feature_column.numeric_column('curb-weight')\n",
    "engine_size = tf.feature_column.numeric_column('engine-size')\n",
    "horsepower = tf.feature_column.numeric_column('horsepower')\n",
    "peak_rpm = tf.feature_column.numeric_column('peak-rpm')\n",
    "city_mpg = tf.feature_column.numeric_column('city-mpg')\n",
    "highway_mpg = tf.feature_column.numeric_column('highway-mpg')"
   ]
  },
  {
   "cell_type": "code",
   "execution_count": 24,
   "metadata": {
    "collapsed": true
   },
   "outputs": [],
   "source": [
    "body_style = tf.feature_column.categorical_column_with_vocabulary_list(key='body-style', vocabulary_list=df['body-style'].unique())\n",
    "fuel_type = tf.feature_column.categorical_column_with_vocabulary_list(key='fuel-type', vocabulary_list=df['fuel-type'].unique())\n",
    "aspiration = tf.feature_column.categorical_column_with_vocabulary_list(key='aspiration', vocabulary_list=df['aspiration'].unique())\n",
    "num_of_doors = tf.feature_column.categorical_column_with_vocabulary_list(key='num-of-doors', vocabulary_list=df['num-of-doors'].unique())\n",
    "drive_wheels = tf.feature_column.categorical_column_with_vocabulary_list(key='drive-wheels', vocabulary_list=df['drive-wheels'].unique())\n",
    "engine_type = tf.feature_column.categorical_column_with_vocabulary_list(key='engine-type', vocabulary_list=df['engine-type'].unique())\n",
    "num_of_cylinders = tf.feature_column.categorical_column_with_vocabulary_list(key='num-of-cylinders', vocabulary_list=df['num-of-cylinders'].unique())\n",
    "fuel_system = tf.feature_column.categorical_column_with_vocabulary_list(key='fuel-system', vocabulary_list=df['fuel-system'].unique())"
   ]
  },
  {
   "cell_type": "code",
   "execution_count": 25,
   "metadata": {
    "collapsed": true
   },
   "outputs": [],
   "source": [
    "make = tf.feature_column.categorical_column_with_hash_bucket(key='make', hash_bucket_size=50)"
   ]
  },
  {
   "cell_type": "code",
   "execution_count": 26,
   "metadata": {
    "collapsed": true
   },
   "outputs": [],
   "source": [
    "feature_columns = [\n",
    "  curb_weight, engine_size, horsepower, peak_rpm, city_mpg, highway_mpg,\n",
    "  tf.feature_column.indicator_column(body_style),\n",
    "  tf.feature_column.embedding_column(fuel_type, dimension=3),\n",
    "  tf.feature_column.embedding_column(aspiration, dimension=3),\n",
    "  tf.feature_column.embedding_column(num_of_doors, dimension=3),\n",
    "  tf.feature_column.embedding_column(drive_wheels, dimension=3),\n",
    "  tf.feature_column.embedding_column(engine_type, dimension=3),\n",
    "  tf.feature_column.embedding_column(num_of_cylinders, dimension=3),\n",
    "  tf.feature_column.embedding_column(fuel_system, dimension=3),\n",
    "  tf.feature_column.embedding_column(make, dimension=3),\n",
    "]"
   ]
  },
  {
   "cell_type": "code",
   "execution_count": 27,
   "metadata": {
    "collapsed": true
   },
   "outputs": [],
   "source": [
    "def input_fn(x_data, y_data, num_epochs, shuffle):\n",
    "  return tf.estimator.inputs.pandas_input_fn(\n",
    "    x=x_data,\n",
    "    y=y_data,\n",
    "    batch_size=64,\n",
    "    num_epochs=num_epochs,\n",
    "    shuffle=shuffle\n",
    "  )"
   ]
  },
  {
   "cell_type": "code",
   "execution_count": 37,
   "metadata": {
    "collapsed": false
   },
   "outputs": [
    {
     "name": "stdout",
     "output_type": "stream",
     "text": [
      "INFO:tensorflow:Using default config.\n",
      "WARNING:tensorflow:Using temporary folder as model directory: /tmp/tmpNQZFk8\n",
      "INFO:tensorflow:Using config: {'_save_checkpoints_secs': 600, '_session_config': None, '_keep_checkpoint_max': 5, '_task_type': 'worker', '_is_chief': True, '_cluster_spec': <tensorflow.python.training.server_lib.ClusterSpec object at 0x7f442a7456d0>, '_save_checkpoints_steps': None, '_keep_checkpoint_every_n_hours': 10000, '_service': None, '_num_ps_replicas': 0, '_tf_random_seed': None, '_master': '', '_num_worker_replicas': 1, '_task_id': 0, '_log_step_count_steps': 100, '_model_dir': '/tmp/tmpNQZFk8', '_save_summary_steps': 100}\n"
     ]
    }
   ],
   "source": [
    "model = tf.estimator.DNNRegressor(hidden_units=[24,16,24], feature_columns=feature_columns)"
   ]
  },
  {
   "cell_type": "code",
   "execution_count": 29,
   "metadata": {
    "collapsed": false
   },
   "outputs": [
    {
     "name": "stdout",
     "output_type": "stream",
     "text": [
      "INFO:tensorflow:Create CheckpointSaverHook.\n",
      "INFO:tensorflow:Saving checkpoints for 1 into /tmp/tmp7EMkNG/model.ckpt.\n",
      "INFO:tensorflow:loss = 14579608.0, step = 1\n",
      "INFO:tensorflow:global_step/sec: 134.634\n",
      "INFO:tensorflow:loss = 167.11539, step = 101 (0.750 sec)\n",
      "INFO:tensorflow:global_step/sec: 175.068\n",
      "INFO:tensorflow:loss = 91.90479, step = 201 (0.569 sec)\n",
      "INFO:tensorflow:global_step/sec: 182.113\n",
      "INFO:tensorflow:loss = 74.39903, step = 301 (0.549 sec)\n",
      "INFO:tensorflow:global_step/sec: 181.969\n",
      "INFO:tensorflow:loss = 36.154457, step = 401 (0.552 sec)\n",
      "INFO:tensorflow:global_step/sec: 162.519\n",
      "INFO:tensorflow:loss = 32.81778, step = 501 (0.615 sec)\n",
      "INFO:tensorflow:global_step/sec: 171.623\n",
      "INFO:tensorflow:loss = 21.875633, step = 601 (0.580 sec)\n",
      "INFO:tensorflow:global_step/sec: 168.288\n",
      "INFO:tensorflow:loss = 34.18802, step = 701 (0.594 sec)\n",
      "INFO:tensorflow:global_step/sec: 185.594\n",
      "INFO:tensorflow:loss = 25.758102, step = 801 (0.539 sec)\n",
      "INFO:tensorflow:global_step/sec: 183.294\n",
      "INFO:tensorflow:loss = 22.68517, step = 901 (0.554 sec)\n",
      "INFO:tensorflow:global_step/sec: 176.251\n",
      "INFO:tensorflow:loss = 15.953742, step = 1001 (0.559 sec)\n",
      "INFO:tensorflow:global_step/sec: 179.509\n",
      "INFO:tensorflow:loss = 25.20771, step = 1101 (0.557 sec)\n",
      "INFO:tensorflow:global_step/sec: 178.623\n",
      "INFO:tensorflow:loss = 16.771297, step = 1201 (0.562 sec)\n",
      "INFO:tensorflow:global_step/sec: 199.045\n",
      "INFO:tensorflow:loss = 24.65735, step = 1301 (0.501 sec)\n",
      "INFO:tensorflow:global_step/sec: 184.312\n",
      "INFO:tensorflow:loss = 22.405046, step = 1401 (0.541 sec)\n",
      "INFO:tensorflow:global_step/sec: 193.637\n",
      "INFO:tensorflow:loss = 18.668034, step = 1501 (0.518 sec)\n",
      "INFO:tensorflow:global_step/sec: 182.673\n",
      "INFO:tensorflow:loss = 15.451153, step = 1601 (0.548 sec)\n",
      "INFO:tensorflow:global_step/sec: 171.834\n",
      "INFO:tensorflow:loss = 15.793314, step = 1701 (0.582 sec)\n",
      "INFO:tensorflow:global_step/sec: 192.723\n",
      "INFO:tensorflow:loss = 19.777187, step = 1801 (0.519 sec)\n",
      "INFO:tensorflow:global_step/sec: 188.444\n",
      "INFO:tensorflow:loss = 17.714968, step = 1901 (0.531 sec)\n",
      "INFO:tensorflow:global_step/sec: 199.368\n",
      "INFO:tensorflow:loss = 16.438564, step = 2001 (0.502 sec)\n",
      "INFO:tensorflow:global_step/sec: 207.943\n",
      "INFO:tensorflow:loss = 16.736855, step = 2101 (0.480 sec)\n",
      "INFO:tensorflow:global_step/sec: 198.74\n",
      "INFO:tensorflow:loss = 16.408064, step = 2201 (0.503 sec)\n",
      "INFO:tensorflow:global_step/sec: 201.081\n",
      "INFO:tensorflow:loss = 15.575742, step = 2301 (0.498 sec)\n",
      "INFO:tensorflow:global_step/sec: 182.867\n",
      "INFO:tensorflow:loss = 14.824681, step = 2401 (0.547 sec)\n",
      "INFO:tensorflow:global_step/sec: 176.071\n",
      "INFO:tensorflow:loss = 12.386709, step = 2501 (0.567 sec)\n",
      "INFO:tensorflow:global_step/sec: 183.883\n",
      "INFO:tensorflow:loss = 14.810659, step = 2601 (0.546 sec)\n",
      "INFO:tensorflow:global_step/sec: 174.145\n",
      "INFO:tensorflow:loss = 17.218071, step = 2701 (0.573 sec)\n",
      "INFO:tensorflow:global_step/sec: 190.249\n",
      "INFO:tensorflow:loss = 15.371794, step = 2801 (0.526 sec)\n",
      "INFO:tensorflow:global_step/sec: 189.327\n",
      "INFO:tensorflow:loss = 12.204783, step = 2901 (0.529 sec)\n",
      "INFO:tensorflow:global_step/sec: 193.647\n",
      "INFO:tensorflow:loss = 11.423231, step = 3001 (0.515 sec)\n",
      "INFO:tensorflow:global_step/sec: 199.283\n",
      "INFO:tensorflow:loss = 11.61161, step = 3101 (0.502 sec)\n",
      "INFO:tensorflow:global_step/sec: 187.175\n",
      "INFO:tensorflow:loss = 12.75622, step = 3201 (0.536 sec)\n",
      "INFO:tensorflow:global_step/sec: 189.995\n",
      "INFO:tensorflow:loss = 13.622271, step = 3301 (0.524 sec)\n",
      "INFO:tensorflow:global_step/sec: 177.078\n",
      "INFO:tensorflow:loss = 15.23411, step = 3401 (0.566 sec)\n",
      "INFO:tensorflow:global_step/sec: 194.497\n",
      "INFO:tensorflow:loss = 12.5720005, step = 3501 (0.512 sec)\n",
      "INFO:tensorflow:global_step/sec: 195.879\n",
      "INFO:tensorflow:loss = 11.222017, step = 3601 (0.511 sec)\n",
      "INFO:tensorflow:global_step/sec: 188.242\n",
      "INFO:tensorflow:loss = 16.506157, step = 3701 (0.531 sec)\n",
      "INFO:tensorflow:global_step/sec: 200.716\n",
      "INFO:tensorflow:loss = 12.214588, step = 3801 (0.497 sec)\n",
      "INFO:tensorflow:global_step/sec: 194.087\n",
      "INFO:tensorflow:loss = 10.251051, step = 3901 (0.515 sec)\n",
      "INFO:tensorflow:global_step/sec: 194.955\n",
      "INFO:tensorflow:loss = 15.069983, step = 4001 (0.515 sec)\n",
      "INFO:tensorflow:global_step/sec: 175.884\n",
      "INFO:tensorflow:loss = 12.972166, step = 4101 (0.569 sec)\n",
      "INFO:tensorflow:global_step/sec: 174.037\n",
      "INFO:tensorflow:loss = 10.354061, step = 4201 (0.574 sec)\n",
      "INFO:tensorflow:global_step/sec: 180.187\n",
      "INFO:tensorflow:loss = 9.488115, step = 4301 (0.555 sec)\n",
      "INFO:tensorflow:global_step/sec: 175.582\n",
      "INFO:tensorflow:loss = 10.063414, step = 4401 (0.570 sec)\n",
      "INFO:tensorflow:global_step/sec: 175.188\n",
      "INFO:tensorflow:loss = 7.5590906, step = 4501 (0.570 sec)\n",
      "INFO:tensorflow:global_step/sec: 191.226\n",
      "INFO:tensorflow:loss = 8.944419, step = 4601 (0.523 sec)\n",
      "INFO:tensorflow:global_step/sec: 194.049\n",
      "INFO:tensorflow:loss = 9.039566, step = 4701 (0.515 sec)\n",
      "INFO:tensorflow:global_step/sec: 168.849\n",
      "INFO:tensorflow:loss = 12.300747, step = 4801 (0.592 sec)\n",
      "INFO:tensorflow:global_step/sec: 186.511\n",
      "INFO:tensorflow:loss = 6.3012753, step = 4901 (0.536 sec)\n",
      "INFO:tensorflow:global_step/sec: 192.385\n",
      "INFO:tensorflow:loss = 9.824584, step = 5001 (0.520 sec)\n",
      "INFO:tensorflow:global_step/sec: 187.659\n",
      "INFO:tensorflow:loss = 13.153735, step = 5101 (0.532 sec)\n",
      "INFO:tensorflow:global_step/sec: 185.753\n",
      "INFO:tensorflow:loss = 10.64979, step = 5201 (0.539 sec)\n",
      "INFO:tensorflow:global_step/sec: 178.976\n",
      "INFO:tensorflow:loss = 8.827297, step = 5301 (0.560 sec)\n",
      "INFO:tensorflow:global_step/sec: 157.926\n",
      "INFO:tensorflow:loss = 10.613409, step = 5401 (0.632 sec)\n",
      "INFO:tensorflow:global_step/sec: 169.928\n",
      "INFO:tensorflow:loss = 9.056507, step = 5501 (0.590 sec)\n",
      "INFO:tensorflow:global_step/sec: 167.007\n",
      "INFO:tensorflow:loss = 7.8520885, step = 5601 (0.597 sec)\n",
      "INFO:tensorflow:global_step/sec: 176.962\n",
      "INFO:tensorflow:loss = 8.953716, step = 5701 (0.566 sec)\n",
      "INFO:tensorflow:global_step/sec: 185.501\n",
      "INFO:tensorflow:loss = 8.435724, step = 5801 (0.540 sec)\n",
      "INFO:tensorflow:global_step/sec: 188.684\n",
      "INFO:tensorflow:loss = 9.450435, step = 5901 (0.528 sec)\n",
      "INFO:tensorflow:global_step/sec: 192.245\n",
      "INFO:tensorflow:loss = 10.181712, step = 6001 (0.521 sec)\n",
      "INFO:tensorflow:global_step/sec: 160.92\n",
      "INFO:tensorflow:loss = 9.715766, step = 6101 (0.623 sec)\n",
      "INFO:tensorflow:global_step/sec: 185.786\n",
      "INFO:tensorflow:loss = 13.551374, step = 6201 (0.537 sec)\n",
      "INFO:tensorflow:global_step/sec: 162.355\n",
      "INFO:tensorflow:loss = 9.341466, step = 6301 (0.617 sec)\n",
      "INFO:tensorflow:global_step/sec: 157.065\n",
      "INFO:tensorflow:loss = 10.1065445, step = 6401 (0.635 sec)\n",
      "INFO:tensorflow:global_step/sec: 190.796\n",
      "INFO:tensorflow:loss = 10.479927, step = 6501 (0.521 sec)\n",
      "INFO:tensorflow:global_step/sec: 160.619\n",
      "INFO:tensorflow:loss = 8.86783, step = 6601 (0.626 sec)\n",
      "INFO:tensorflow:global_step/sec: 174.307\n",
      "INFO:tensorflow:loss = 9.591824, step = 6701 (0.576 sec)\n",
      "INFO:tensorflow:global_step/sec: 176.696\n",
      "INFO:tensorflow:loss = 11.377323, step = 6801 (0.564 sec)\n",
      "INFO:tensorflow:global_step/sec: 185.716\n",
      "INFO:tensorflow:loss = 11.280507, step = 6901 (0.539 sec)\n",
      "INFO:tensorflow:global_step/sec: 175.705\n",
      "INFO:tensorflow:loss = 10.117899, step = 7001 (0.567 sec)\n",
      "INFO:tensorflow:global_step/sec: 182.182\n",
      "INFO:tensorflow:loss = 11.273454, step = 7101 (0.550 sec)\n",
      "INFO:tensorflow:global_step/sec: 181.25\n",
      "INFO:tensorflow:loss = 8.510439, step = 7201 (0.552 sec)\n",
      "INFO:tensorflow:global_step/sec: 155.193\n",
      "INFO:tensorflow:loss = 11.712244, step = 7301 (0.643 sec)\n",
      "INFO:tensorflow:global_step/sec: 188.249\n",
      "INFO:tensorflow:loss = 7.644926, step = 7401 (0.534 sec)\n",
      "INFO:tensorflow:global_step/sec: 186.506\n",
      "INFO:tensorflow:loss = 9.5691, step = 7501 (0.533 sec)\n",
      "INFO:tensorflow:global_step/sec: 188.153\n",
      "INFO:tensorflow:loss = 7.1027675, step = 7601 (0.531 sec)\n",
      "INFO:tensorflow:global_step/sec: 180.957\n",
      "INFO:tensorflow:loss = 9.980362, step = 7701 (0.553 sec)\n",
      "INFO:tensorflow:global_step/sec: 193.578\n",
      "INFO:tensorflow:loss = 11.821294, step = 7801 (0.517 sec)\n",
      "INFO:tensorflow:global_step/sec: 187.678\n",
      "INFO:tensorflow:loss = 8.785578, step = 7901 (0.532 sec)\n",
      "INFO:tensorflow:global_step/sec: 191.323\n",
      "INFO:tensorflow:loss = 8.163747, step = 8001 (0.523 sec)\n",
      "INFO:tensorflow:global_step/sec: 187.616\n",
      "INFO:tensorflow:loss = 12.413785, step = 8101 (0.534 sec)\n",
      "INFO:tensorflow:global_step/sec: 181.287\n",
      "INFO:tensorflow:loss = 8.36961, step = 8201 (0.550 sec)\n",
      "INFO:tensorflow:global_step/sec: 197.004\n",
      "INFO:tensorflow:loss = 11.704645, step = 8301 (0.508 sec)\n",
      "INFO:tensorflow:global_step/sec: 191.67\n",
      "INFO:tensorflow:loss = 7.283392, step = 8401 (0.522 sec)\n",
      "INFO:tensorflow:global_step/sec: 196.391\n",
      "INFO:tensorflow:loss = 7.1330404, step = 8501 (0.509 sec)\n",
      "INFO:tensorflow:global_step/sec: 151.308\n",
      "INFO:tensorflow:loss = 7.834568, step = 8601 (0.663 sec)\n",
      "INFO:tensorflow:global_step/sec: 129.795\n",
      "INFO:tensorflow:loss = 9.834339, step = 8701 (0.769 sec)\n",
      "INFO:tensorflow:global_step/sec: 192.601\n",
      "INFO:tensorflow:loss = 7.609716, step = 8801 (0.518 sec)\n",
      "INFO:tensorflow:global_step/sec: 187.076\n",
      "INFO:tensorflow:loss = 9.460501, step = 8901 (0.535 sec)\n",
      "INFO:tensorflow:global_step/sec: 191.574\n",
      "INFO:tensorflow:loss = 6.4925013, step = 9001 (0.522 sec)\n",
      "INFO:tensorflow:global_step/sec: 188.314\n",
      "INFO:tensorflow:loss = 5.161869, step = 9101 (0.531 sec)\n",
      "INFO:tensorflow:global_step/sec: 200.414\n",
      "INFO:tensorflow:loss = 9.668153, step = 9201 (0.499 sec)\n",
      "INFO:tensorflow:global_step/sec: 196.52\n",
      "INFO:tensorflow:loss = 10.089033, step = 9301 (0.509 sec)\n",
      "INFO:tensorflow:global_step/sec: 201.428\n",
      "INFO:tensorflow:loss = 9.981518, step = 9401 (0.496 sec)\n",
      "INFO:tensorflow:global_step/sec: 188.669\n",
      "INFO:tensorflow:loss = 8.142269, step = 9501 (0.531 sec)\n",
      "INFO:tensorflow:global_step/sec: 197.407\n",
      "INFO:tensorflow:loss = 7.1296034, step = 9601 (0.506 sec)\n",
      "INFO:tensorflow:global_step/sec: 176.606\n",
      "INFO:tensorflow:loss = 9.0213, step = 9701 (0.567 sec)\n",
      "INFO:tensorflow:global_step/sec: 197.655\n",
      "INFO:tensorflow:loss = 7.0614967, step = 9801 (0.505 sec)\n",
      "INFO:tensorflow:global_step/sec: 186.703\n",
      "INFO:tensorflow:loss = 6.9223585, step = 9901 (0.536 sec)\n",
      "INFO:tensorflow:Saving checkpoints for 10000 into /tmp/tmp7EMkNG/model.ckpt.\n",
      "INFO:tensorflow:Loss for final step: 9.325593.\n"
     ]
    },
    {
     "data": {
      "text/plain": [
       "<tensorflow.python.estimator.canned.dnn.DNNRegressor at 0x7f442ae6bad0>"
      ]
     },
     "execution_count": 29,
     "metadata": {},
     "output_type": "execute_result"
    }
   ],
   "source": [
    "model.train(input_fn=input_fn(x_train,y_train,num_epochs=None,shuffle=True),steps=10000)"
   ]
  },
  {
   "cell_type": "code",
   "execution_count": 30,
   "metadata": {
    "collapsed": false
   },
   "outputs": [
    {
     "name": "stdout",
     "output_type": "stream",
     "text": [
      "INFO:tensorflow:Starting evaluation at 2018-05-07-23:56:26\n",
      "INFO:tensorflow:Restoring parameters from /tmp/tmp7EMkNG/model.ckpt-10000\n",
      "INFO:tensorflow:Finished evaluation at 2018-05-07-23:56:26\n",
      "INFO:tensorflow:Saving dict for global step 10000: average_loss = 0.15872158, global_step = 10000, loss = 5.0790906\n"
     ]
    }
   ],
   "source": [
    "results = model.evaluate(input_fn=input_fn(x_test,y_test,num_epochs=1,shuffle=False))"
   ]
  },
  {
   "cell_type": "code",
   "execution_count": 31,
   "metadata": {
    "collapsed": false
   },
   "outputs": [
    {
     "name": "stdout",
     "output_type": "stream",
     "text": [
      "INFO:tensorflow:Restoring parameters from /tmp/tmp7EMkNG/model.ckpt-10000\n"
     ]
    }
   ],
   "source": [
    "predict_results = model.predict(input_fn=input_fn(x_predict,y_predict,num_epochs=1,shuffle=False))\n",
    "predictions = list(itertools.islice(predict_results, len(x_predict)))"
   ]
  },
  {
   "cell_type": "code",
   "execution_count": 32,
   "metadata": {
    "collapsed": false
   },
   "outputs": [
    {
     "data": {
      "text/plain": [
       "[{'predictions': array([1.8309134], dtype=float32)},\n",
       " {'predictions': array([0.6049537], dtype=float32)},\n",
       " {'predictions': array([1.7558783], dtype=float32)},\n",
       " {'predictions': array([1.3926734], dtype=float32)},\n",
       " {'predictions': array([0.87404245], dtype=float32)},\n",
       " {'predictions': array([0.8393974], dtype=float32)}]"
      ]
     },
     "execution_count": 32,
     "metadata": {},
     "output_type": "execute_result"
    }
   ],
   "source": [
    "predictions"
   ]
  },
  {
   "cell_type": "code",
   "execution_count": 34,
   "metadata": {
    "collapsed": false
   },
   "outputs": [],
   "source": [
    "predicted_prices = [obj['predictions'][0]*PRICE_SCALING_FACTOR for obj in predictions]"
   ]
  },
  {
   "cell_type": "code",
   "execution_count": 35,
   "metadata": {
    "collapsed": false
   },
   "outputs": [
    {
     "data": {
      "text/plain": [
       "[18309.134244918823,\n",
       " 6049.5370626449585,\n",
       " 17558.783292770386,\n",
       " 13926.73373222351,\n",
       " 8740.424513816833,\n",
       " 8393.973708152771]"
      ]
     },
     "execution_count": 35,
     "metadata": {},
     "output_type": "execute_result"
    }
   ],
   "source": [
    "predicted_prices"
   ]
  },
  {
   "cell_type": "code",
   "execution_count": 36,
   "metadata": {
    "collapsed": false
   },
   "outputs": [
    {
     "data": {
      "text/plain": [
       "169     9989.0\n",
       "120     6229.0\n",
       "171    11549.0\n",
       "6      17710.0\n",
       "158     7898.0\n",
       "34      7129.0\n",
       "Name: price, dtype: float64"
      ]
     },
     "execution_count": 36,
     "metadata": {},
     "output_type": "execute_result"
    }
   ],
   "source": [
    "y_predict"
   ]
  },
  {
   "cell_type": "code",
   "execution_count": null,
   "metadata": {
    "collapsed": true
   },
   "outputs": [],
   "source": []
  }
 ],
 "metadata": {
  "kernelspec": {
   "display_name": "Python 2",
   "language": "python",
   "name": "python2"
  },
  "language_info": {
   "codemirror_mode": {
    "name": "ipython",
    "version": 2
   },
   "file_extension": ".py",
   "mimetype": "text/x-python",
   "name": "python",
   "nbconvert_exporter": "python",
   "pygments_lexer": "ipython2",
   "version": "2.7.14"
  }
 },
 "nbformat": 4,
 "nbformat_minor": 2
}
