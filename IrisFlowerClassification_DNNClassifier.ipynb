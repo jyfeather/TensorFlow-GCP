{
 "cells": [
  {
   "cell_type": "code",
   "execution_count": 1,
   "metadata": {
    "collapsed": true,
    "deletable": true,
    "editable": true
   },
   "outputs": [],
   "source": [
    "from __future__ import absolute_import\n",
    "from __future__ import division\n",
    "from __future__ import print_function"
   ]
  },
  {
   "cell_type": "code",
   "execution_count": 2,
   "metadata": {
    "collapsed": true,
    "deletable": true,
    "editable": true
   },
   "outputs": [],
   "source": [
    "import os\n",
    "import collections\n",
    "import itertools"
   ]
  },
  {
   "cell_type": "code",
   "execution_count": 6,
   "metadata": {
    "collapsed": false,
    "deletable": true,
    "editable": true
   },
   "outputs": [],
   "source": [
    "import numpy as np\n",
    "import pandas as pd\n",
    "import tensorflow as tf\n",
    "import ssl"
   ]
  },
  {
   "cell_type": "code",
   "execution_count": 4,
   "metadata": {
    "collapsed": true,
    "deletable": true,
    "editable": true
   },
   "outputs": [],
   "source": [
    "from six.moves import urllib"
   ]
  },
  {
   "cell_type": "code",
   "execution_count": null,
   "metadata": {
    "collapsed": false,
    "deletable": true,
    "editable": true
   },
   "outputs": [],
   "source": [
    "URL_TRAIN_PATH = 'https://download.tensorflow.org/data/iris_training.csv'\n",
    "URL_TEST_PATH = 'https://download.tensorflow.org/data/iris_test.csv'\n",
    "\n",
    "DOWNLOADED_FILENAME_TRAIN = 'iris_training.csv'\n",
    "DOWNLOADED_FILENAME_TEST = 'iris_test.csv'\n",
    "\n",
    "def download_data():\n",
    "  if not os.path.exists(DOWNLOADED_FILENAME_TRAIN):\n",
    "    filename, _ = urllib.request.urlretrieve(URL_TRAIN_PATH, DOWNLOADED_FILENAME_TRAIN)\n",
    "  print('Found and verified file from this path: ', URL_TRAIN_PATH)\n",
    "  print('Downloaded file: ', DOWNLOADED_FILENAME_TRAIN)\n",
    "  \n",
    "  if not os.path.exists(DOWNLOADED_FILENAME_TEST):\n",
    "    filename, _ = urllib.request.urlretrieve(URL_TEST_PATH, DOWNLOADED_FILENAME_TEST)\n",
    "  print('Found and verified file from this path: ', URL_TEST_PATH)\n",
    "  print('Downloaded file: ', DOWNLOADED_FILENAME_TEST)\n",
    "\n",
    "download_data()"
   ]
  },
  {
   "cell_type": "code",
   "execution_count": 8,
   "metadata": {
    "collapsed": true,
    "deletable": true,
    "editable": true
   },
   "outputs": [],
   "source": [
    "FEATURE_NAMES = [\n",
    "  'SepalLengthCm',\n",
    "  'SepalWidthCm',\n",
    "  'PetalLengthCm',\n",
    "  'SepalWidthCm'\n",
    "]"
   ]
  },
  {
   "cell_type": "code",
   "execution_count": 9,
   "metadata": {
    "collapsed": true,
    "deletable": true,
    "editable": true
   },
   "outputs": [],
   "source": [
    "def parse_csv(line):\n",
    "  parsed_line = tf.decode_csv(line, [[0.], [0.], [0.], [0.], [0]])\n",
    "  labels = parsed_line[-1:]\n",
    "  del parsed_line[-1]\n",
    "  features = dict(zip(FEATURE_NAMES, parsed_line))\n",
    "  return features, labels"
   ]
  },
  {
   "cell_type": "code",
   "execution_count": 12,
   "metadata": {
    "collapsed": false,
    "deletable": true,
    "editable": true
   },
   "outputs": [],
   "source": [
    "def get_features_labels(filename, shuffle=False, repeat_count=1):\n",
    "  dataset = (tf.data.TextLineDataset(filename).skip(1).map(parse_csv))\n",
    "  if shuffle:\n",
    "    dataset = dataset.shuffle(buffer_size=256)\n",
    "  dataset = dataset.repeat(repeat_count)\n",
    "  dataset = dataset.batch(32)\n",
    "  iterator = dataset.make_one_shot_iterator()\n",
    "  batch_features, batch_labels = iterator.get_next()\n",
    "  return batch_features, batch_labels"
   ]
  },
  {
   "cell_type": "code",
   "execution_count": null,
   "metadata": {
    "collapsed": false,
    "deletable": true,
    "editable": true
   },
   "outputs": [],
   "source": [
    "batch_features, batch_labels = get_features_labels(DOWNLOADED_FILENAME_TRAIN)"
   ]
  },
  {
   "cell_type": "code",
   "execution_count": 14,
   "metadata": {
    "collapsed": false,
    "deletable": true,
    "editable": true
   },
   "outputs": [],
   "source": [
    "feature_columns = [tf.feature_column.numeric_column(k) for k in FEATURE_NAMES]"
   ]
  },
  {
   "cell_type": "code",
   "execution_count": 16,
   "metadata": {
    "collapsed": false,
    "deletable": true,
    "editable": true
   },
   "outputs": [
    {
     "name": "stdout",
     "output_type": "stream",
     "text": [
      "INFO:tensorflow:Using default config.\n",
      "WARNING:tensorflow:Using temporary folder as model directory: /tmp/tmpIeVwTl\n",
      "INFO:tensorflow:Using config: {'_save_checkpoints_secs': 600, '_session_config': None, '_keep_checkpoint_max': 5, '_task_type': 'worker', '_is_chief': True, '_cluster_spec': <tensorflow.python.training.server_lib.ClusterSpec object at 0x7f0be15544d0>, '_save_checkpoints_steps': None, '_keep_checkpoint_every_n_hours': 10000, '_service': None, '_num_ps_replicas': 0, '_tf_random_seed': None, '_master': '', '_num_worker_replicas': 1, '_task_id': 0, '_log_step_count_steps': 100, '_model_dir': '/tmp/tmpIeVwTl', '_save_summary_steps': 100}\n"
     ]
    }
   ],
   "source": [
    "classifier_model = tf.estimator.DNNClassifier(\n",
    "  feature_columns = feature_columns,\n",
    "  hidden_units = [10,10],\n",
    "  n_classes = 3\n",
    ")"
   ]
  },
  {
   "cell_type": "code",
   "execution_count": null,
   "metadata": {
    "collapsed": false,
    "deletable": true,
    "editable": true
   },
   "outputs": [],
   "source": [
    "classifier_model.train(\n",
    "  input_fn = lambda: get_features_labels(DOWNLOADED_FILENAME_TRAIN, shuffle=True, repeat_count=20)\n",
    ")"
   ]
  },
  {
   "cell_type": "code",
   "execution_count": 17,
   "metadata": {
    "collapsed": true,
    "deletable": true,
    "editable": true
   },
   "outputs": [],
   "source": [
    "results = classifier_model.evaluate(\n",
    "  input_fn = lambda: get_features_labels(DOWNLOADED_FILENAME_TEST, shuffle=False, repeat_count=4)\n",
    ")"
   ]
  },
  {
   "cell_type": "code",
   "execution_count": null,
   "metadata": {
    "collapsed": true,
    "deletable": true,
    "editable": true
   },
   "outputs": [],
   "source": []
  }
 ],
 "metadata": {
  "kernelspec": {
   "display_name": "Python 2",
   "language": "python",
   "name": "python2"
  },
  "language_info": {
   "codemirror_mode": {
    "name": "ipython",
    "version": 2
   },
   "file_extension": ".py",
   "mimetype": "text/x-python",
   "name": "python",
   "nbconvert_exporter": "python",
   "pygments_lexer": "ipython2",
   "version": "2.7.14"
  }
 },
 "nbformat": 4,
 "nbformat_minor": 2
}
