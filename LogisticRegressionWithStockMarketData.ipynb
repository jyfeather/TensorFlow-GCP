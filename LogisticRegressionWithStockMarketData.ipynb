{
 "cells": [
  {
   "cell_type": "code",
   "execution_count": 1,
   "metadata": {
    "collapsed": true,
    "deletable": true,
    "editable": true
   },
   "outputs": [],
   "source": [
    "import pandas as pd \n",
    "import numpy as np"
   ]
  },
  {
   "cell_type": "code",
   "execution_count": 2,
   "metadata": {
    "collapsed": true,
    "deletable": true,
    "editable": true
   },
   "outputs": [],
   "source": [
    "def read_goog_sp500_dataframe():\n",
    "  \"\"\"Returns a dataframe with the results for Google and S&P 500\"\"\"\n",
    "  \n",
    "  # Point to where you've stored the CSV file on your local machine\n",
    "  googFile = 'data/GOOG.csv'\n",
    "  spFile = 'data/SP_500.csv'\n",
    "\n",
    "  goog = pd.read_csv(googFile, sep=\",\", usecols=[0,5], names=['Date','Goog'], header=0)\n",
    "  sp = pd.read_csv(spFile, sep=\",\", usecols=[0,5], names=['Date','SP500'], header=0)\n",
    "\n",
    "  goog['SP500'] = sp['SP500']\n",
    "\n",
    "  # The date object is a string, format it as a date\n",
    "  goog['Date'] = pd.to_datetime(goog['Date'], format='%Y-%m-%d')\n",
    "\n",
    "  goog = goog.sort_values(['Date'], ascending=[True])\n",
    "\n",
    "  returns = goog[[key for key in dict(goog.dtypes) if dict(goog.dtypes)[key] in ['float64', 'int64']]]\\\n",
    "            .pct_change()\n",
    "\n",
    "  return returns"
   ]
  },
  {
   "cell_type": "code",
   "execution_count": 3,
   "metadata": {
    "collapsed": true,
    "deletable": true,
    "editable": true
   },
   "outputs": [],
   "source": [
    "def read_goog_sp500_logistic_data():\n",
    "  \"\"\"Returns a dataframe with the results for Google and \n",
    "  S&P 500 set up for logistic regression\"\"\"\n",
    "  returns = read_goog_sp500_dataframe()\n",
    "\n",
    "  returns['Intercept'] = 1\n",
    "\n",
    "  # Leave out the first row since it will not have a prediction for UP/DOWN\n",
    "  # Leave out the last row as it will not have a value for returns\n",
    "  # Resultant dataframe with the S&P500 and intercept values of all 1s\n",
    "  xData = np.array(returns[[\"SP500\", \"Intercept\"]][1:-1])\n",
    "\n",
    "  yData = (returns[\"Goog\"] > 0)[1:-1]\n",
    "\n",
    "  return (xData, yData)"
   ]
  },
  {
   "cell_type": "code",
   "execution_count": 4,
   "metadata": {
    "collapsed": true,
    "deletable": true,
    "editable": true
   },
   "outputs": [],
   "source": [
    "def read_goog_sp500_data():\n",
    "  \"\"\"Returns a tuple with 2 fields, the returns for Google and the S&P 500.\n",
    "  Each of the returns are in the form of a 1D array\"\"\"\n",
    "\n",
    "  returns = read_goog_sp500_dataframe()\n",
    "\n",
    "  # Filter out the very first row which does not have any value for returns\n",
    "  xData = np.array(returns[\"SP500\"])[1:]\n",
    "  yData = np.array(returns[\"Goog\"])[1:]\n",
    "\n",
    "  return (xData, yData)"
   ]
  },
  {
   "cell_type": "code",
   "execution_count": 5,
   "metadata": {
    "collapsed": true,
    "deletable": true,
    "editable": true
   },
   "outputs": [],
   "source": [
    "def read_xom_oil_nasdaq_data():\n",
    "  \"\"\"Returns a tuple with 3 fields, the returns for Exxon Mobil, Nasdaq and oil prices.\n",
    "  Each of the returns are in the form of a 1D array\"\"\"\n",
    "\n",
    "  def readFile(filename):\n",
    "    # Only read in the date and price at columns 0 and 5\n",
    "    data = pd.read_csv(filename, sep=\",\", usecols=[0, 5], names=['Date', 'Price'], header=0)\n",
    "\n",
    "    # Sort the data in ascending order of date so returns can be calculated\n",
    "    data['Date'] = pd.to_datetime(data['Date'], format='%Y-%m-%d')\n",
    "\n",
    "    data = data.sort_values(['Date'], ascending=[True])\n",
    "\n",
    "    # Exclude the date from the percentage change calculation\n",
    "    returns = data[[key for key in dict(data.dtypes) if dict(data.dtypes)[key] in ['float64', 'int64']]]\\\n",
    "              .pct_change()\n",
    "\n",
    "    # Filter out the very first row which has no returns associated with it\n",
    "    return np.array(returns[\"Price\"])[1:]\n",
    "\n",
    "  nasdaqData = readFile('data/NASDAQ.csv')\n",
    "  oilData = readFile('data/USO.csv')\n",
    "  xomData = readFile('data/XOM.csv')\n",
    "\n",
    "  return (nasdaqData, oilData, xomData)"
   ]
  },
  {
   "cell_type": "code",
   "execution_count": null,
   "metadata": {
    "collapsed": false,
    "deletable": true,
    "editable": true
   },
   "outputs": [],
   "source": [
    "import pandas as pd \n",
    "import numpy as np\n",
    "import statsmodels.api as sm"
   ]
  },
  {
   "cell_type": "code",
   "execution_count": 7,
   "metadata": {
    "collapsed": true,
    "deletable": true,
    "editable": true
   },
   "outputs": [],
   "source": [
    "xData, yData = read_goog_sp500_logistic_data()"
   ]
  },
  {
   "cell_type": "code",
   "execution_count": 8,
   "metadata": {
    "collapsed": true,
    "deletable": true,
    "editable": true
   },
   "outputs": [],
   "source": [
    "logit = sm.Logit(yData, xData)"
   ]
  },
  {
   "cell_type": "code",
   "execution_count": 9,
   "metadata": {
    "collapsed": false,
    "deletable": true,
    "editable": true
   },
   "outputs": [
    {
     "name": "stdout",
     "output_type": "stream",
     "text": [
      "Optimization terminated successfully.\n",
      "         Current function value: 0.540704\n",
      "         Iterations 6\n"
     ]
    }
   ],
   "source": [
    "# Fit the Logistic model\n",
    "result = logit.fit()"
   ]
  },
  {
   "cell_type": "code",
   "execution_count": 10,
   "metadata": {
    "collapsed": true,
    "deletable": true,
    "editable": true
   },
   "outputs": [],
   "source": [
    "# All values >0.5 predict an up day for Google\n",
    "predictions = (result.predict(xData) > 0.5)"
   ]
  },
  {
   "cell_type": "code",
   "execution_count": 11,
   "metadata": {
    "collapsed": true,
    "deletable": true,
    "editable": true
   },
   "outputs": [],
   "source": [
    "# Count the number of times the actual up days match the predicted up days\n",
    "num_accurate_predictions = (list(yData == predictions)).count(True)"
   ]
  },
  {
   "cell_type": "code",
   "execution_count": 12,
   "metadata": {
    "collapsed": true,
    "deletable": true,
    "editable": true
   },
   "outputs": [],
   "source": [
    "pctAccuracy = float(num_accurate_predictions) / float(len(predictions))"
   ]
  },
  {
   "cell_type": "code",
   "execution_count": 13,
   "metadata": {
    "collapsed": false,
    "deletable": true,
    "editable": true
   },
   "outputs": [
    {
     "name": "stdout",
     "output_type": "stream",
     "text": [
      "Accuracy:  0.728\n"
     ]
    }
   ],
   "source": [
    "print \"Accuracy: \", pctAccuracy"
   ]
  },
  {
   "cell_type": "code",
   "execution_count": 14,
   "metadata": {
    "collapsed": false,
    "deletable": true,
    "editable": true
   },
   "outputs": [
    {
     "name": "stderr",
     "output_type": "stream",
     "text": [
      "/usr/local/envs/py2env/lib/python2.7/site-packages/h5py/__init__.py:36: FutureWarning: Conversion of the second argument of issubdtype from `float` to `np.floating` is deprecated. In future, it will be treated as `np.float64 == np.dtype(float).type`.\n",
      "  from ._conv import register_converters as _register_converters\n"
     ]
    }
   ],
   "source": [
    "import tensorflow as tf"
   ]
  },
  {
   "cell_type": "code",
   "execution_count": 15,
   "metadata": {
    "collapsed": true,
    "deletable": true,
    "editable": true
   },
   "outputs": [],
   "source": [
    "W = tf.Variable(tf.ones([1, 2]), name=\"W\")\n",
    "b = tf.Variable(tf.zeros([2]), name=\"b\")"
   ]
  },
  {
   "cell_type": "code",
   "execution_count": 16,
   "metadata": {
    "collapsed": true,
    "deletable": true,
    "editable": true
   },
   "outputs": [],
   "source": [
    "x = tf.placeholder(tf.float32, [None, 1], name=\"x\")"
   ]
  },
  {
   "cell_type": "code",
   "execution_count": 17,
   "metadata": {
    "collapsed": true,
    "deletable": true,
    "editable": true
   },
   "outputs": [],
   "source": [
    "y_ = tf.placeholder(tf.float32, [None, 2], name=\"y_\")\n",
    "\n",
    "y = tf.matmul(x, W) + b"
   ]
  },
  {
   "cell_type": "code",
   "execution_count": 18,
   "metadata": {
    "collapsed": false,
    "deletable": true,
    "editable": true
   },
   "outputs": [
    {
     "name": "stdout",
     "output_type": "stream",
     "text": [
      "WARNING:tensorflow:From <ipython-input-18-e464deb94e84>:1: softmax_cross_entropy_with_logits (from tensorflow.python.ops.nn_ops) is deprecated and will be removed in a future version.\n",
      "Instructions for updating:\n",
      "\n",
      "Future major versions of TensorFlow will allow gradients to flow\n",
      "into the labels input on backprop by default.\n",
      "\n",
      "See tf.nn.softmax_cross_entropy_with_logits_v2.\n",
      "\n"
     ]
    }
   ],
   "source": [
    "cross_entropy = tf.reduce_mean(tf.nn.softmax_cross_entropy_with_logits(labels=y_, logits=y))"
   ]
  },
  {
   "cell_type": "code",
   "execution_count": 19,
   "metadata": {
    "collapsed": true,
    "deletable": true,
    "editable": true
   },
   "outputs": [],
   "source": [
    "train_step = tf.train.GradientDescentOptimizer(0.5).minimize(cross_entropy)"
   ]
  },
  {
   "cell_type": "code",
   "execution_count": 20,
   "metadata": {
    "collapsed": true,
    "deletable": true,
    "editable": true
   },
   "outputs": [],
   "source": [
    "# All returns in a 2D array\n",
    "# [[-0.02184618]\n",
    "#  [ 0.00997998]\n",
    "#  [ 0.04329069]\n",
    "#  [ 0.03254923]\n",
    "#  [-0.01781632]]\n",
    "all_xs = np.expand_dims(xData[:,0], axis=1)"
   ]
  },
  {
   "cell_type": "code",
   "execution_count": 21,
   "metadata": {
    "collapsed": true,
    "deletable": true,
    "editable": true
   },
   "outputs": [],
   "source": [
    "# Another 2D array with 0 1 or 1 0 in each row\n",
    "# 1 0 indicates a UP day\n",
    "# 0 1 indicates a DOWN day\n",
    "# [[0 1]\n",
    "#  [1 0]\n",
    "#  [1 0]\n",
    "#  [1 0]\n",
    "#  [1 0]]\n",
    "all_ys = np.array([([1,0] if yEl == True else [0,1]) for yEl in yData])"
   ]
  },
  {
   "cell_type": "code",
   "execution_count": 22,
   "metadata": {
    "collapsed": true,
    "deletable": true,
    "editable": true
   },
   "outputs": [],
   "source": [
    "dataset_size = len(all_xs)"
   ]
  },
  {
   "cell_type": "code",
   "execution_count": 23,
   "metadata": {
    "collapsed": true,
    "deletable": true,
    "editable": true
   },
   "outputs": [],
   "source": [
    "def trainWithMultiplePointsPerEpoch(steps, train_step, batch_size):\n",
    "  init = tf.global_variables_initializer()\n",
    "\n",
    "  with tf.Session() as sess:\n",
    "    sess.run(init)\n",
    "\n",
    "    for i in range(steps):\n",
    "      if dataset_size == batch_size:\n",
    "        batch_start_idx = 0\n",
    "      elif dataset_size < batch_size:\n",
    "        raise ValueError(\"dataset_size: %d, must be greater than batch_size: %d\" % (dataset_size, batch_size))\n",
    "      else:\n",
    "        batch_start_idx = (i * batch_size) % (dataset_size)\n",
    "\n",
    "      batch_end_idx = batch_start_idx + batch_size\n",
    "\n",
    "      batch_xs = all_xs[batch_start_idx : batch_end_idx]\n",
    "      batch_ys = all_ys[batch_start_idx : batch_end_idx]\n",
    "\n",
    "      feed = { x: batch_xs, y_: batch_ys }\n",
    "\n",
    "      sess.run(train_step, feed_dict=feed)\n",
    "\n",
    "      if (i + 1) % 1000 == 0:\n",
    "        print(\"After %d iteration:\" % i)\n",
    "        print(sess.run(W))\n",
    "        print(sess.run(b))\n",
    "\n",
    "        print(\"cross entropy: %f\" % sess.run(cross_entropy, feed_dict=feed))\n",
    "\n",
    "    # Test model\n",
    "    correct_prediction = tf.equal(tf.argmax(y_, 1), tf.argmax(y, 1))\n",
    "\n",
    "    # Calculate accuracy\n",
    "    accuracy = tf.reduce_mean(tf.cast(correct_prediction, tf.float32))\n",
    "\n",
    "    print(\"Accuracy: %f\" % sess.run(accuracy, feed_dict={x: all_xs, y_: all_ys}))"
   ]
  },
  {
   "cell_type": "code",
   "execution_count": 24,
   "metadata": {
    "collapsed": false,
    "deletable": true,
    "editable": true
   },
   "outputs": [
    {
     "name": "stdout",
     "output_type": "stream",
     "text": [
      "After 999 iteration:\n",
      "[[ 5.196305  -3.1963046]]\n",
      "[ 0.13512917 -0.13512877]\n",
      "cross entropy: 0.609988\n",
      "After 1999 iteration:\n",
      "[[ 7.973796  -5.9737945]]\n",
      "[ 0.1246955  -0.12469481]\n",
      "cross entropy: 0.578771\n",
      "After 2999 iteration:\n",
      "[[ 9.935836  -7.9358315]]\n",
      "[ 0.11727998 -0.11727909]\n",
      "cross entropy: 0.563244\n",
      "After 3999 iteration:\n",
      "[[11.390679 -9.390675]]\n",
      "[ 0.1116586  -0.11165741]\n",
      "cross entropy: 0.554723\n",
      "After 4999 iteration:\n",
      "[[ 12.505717  -10.5057125]]\n",
      "[ 0.10726263 -0.10726164]\n",
      "cross entropy: 0.549724\n",
      "After 5999 iteration:\n",
      "[[ 13.380331 -11.380326]]\n",
      "[ 0.10375845 -0.10375739]\n",
      "cross entropy: 0.546651\n",
      "After 6999 iteration:\n",
      "[[ 14.077989 -12.077984]]\n",
      "[ 0.10092742 -0.10092653]\n",
      "cross entropy: 0.544697\n",
      "After 7999 iteration:\n",
      "[[ 14.641535 -12.64153 ]]\n",
      "[ 0.09861766 -0.09861698]\n",
      "cross entropy: 0.543422\n",
      "After 8999 iteration:\n",
      "[[ 15.101157 -13.101152]]\n",
      "[ 0.09671898 -0.09671844]\n",
      "cross entropy: 0.542574\n",
      "After 9999 iteration:\n",
      "[[ 15.478832 -13.478827]]\n",
      "[ 0.09514897 -0.09514863]\n",
      "cross entropy: 0.542002\n",
      "After 10999 iteration:\n",
      "[[ 15.791024 -13.791019]]\n",
      "[ 0.09384484 -0.09384432]\n",
      "cross entropy: 0.541611\n",
      "After 11999 iteration:\n",
      "[[ 16.050318 -14.050316]]\n",
      "[ 0.09275717 -0.09275668]\n",
      "cross entropy: 0.541341\n",
      "After 12999 iteration:\n",
      "[[ 16.266523 -14.266517]]\n",
      "[ 0.09184728 -0.09184679]\n",
      "cross entropy: 0.541154\n",
      "After 13999 iteration:\n",
      "[[ 16.447346 -14.447347]]\n",
      "[ 0.0910843  -0.09108362]\n",
      "cross entropy: 0.541022\n",
      "After 14999 iteration:\n",
      "[[ 16.598978 -14.598987]]\n",
      "[ 0.09044305 -0.09044226]\n",
      "cross entropy: 0.540930\n",
      "After 15999 iteration:\n",
      "[[ 16.726406 -14.726417]]\n",
      "[ 0.0899031  -0.08990231]\n",
      "cross entropy: 0.540865\n",
      "After 16999 iteration:\n",
      "[[ 16.833696 -14.833688]]\n",
      "[ 0.08944789 -0.08944704]\n",
      "cross entropy: 0.540819\n",
      "After 17999 iteration:\n",
      "[[ 16.92415  -14.924132]]\n",
      "[ 0.08906347 -0.08906282]\n",
      "cross entropy: 0.540786\n",
      "After 18999 iteration:\n",
      "[[ 17.000471 -15.000488]]\n",
      "[ 0.08873884 -0.08873805]\n",
      "cross entropy: 0.540763\n",
      "After 19999 iteration:\n",
      "[[ 17.064974 -15.064994]]\n",
      "[ 0.08846418 -0.08846346]\n",
      "cross entropy: 0.540746\n",
      "Accuracy: 0.728000\n"
     ]
    }
   ],
   "source": [
    "trainWithMultiplePointsPerEpoch(20000, train_step, dataset_size)"
   ]
  },
  {
   "cell_type": "code",
   "execution_count": null,
   "metadata": {
    "collapsed": true,
    "deletable": true,
    "editable": true
   },
   "outputs": [],
   "source": []
  }
 ],
 "metadata": {
  "kernelspec": {
   "display_name": "Python 2",
   "language": "python",
   "name": "python2"
  },
  "language_info": {
   "codemirror_mode": {
    "name": "ipython",
    "version": 2
   },
   "file_extension": ".py",
   "mimetype": "text/x-python",
   "name": "python",
   "nbconvert_exporter": "python",
   "pygments_lexer": "ipython2",
   "version": "2.7.14"
  }
 },
 "nbformat": 4,
 "nbformat_minor": 2
}
