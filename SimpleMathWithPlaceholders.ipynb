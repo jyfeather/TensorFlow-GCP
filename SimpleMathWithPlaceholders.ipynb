{
 "cells": [
  {
   "cell_type": "code",
   "execution_count": null,
   "metadata": {
    "collapsed": false,
    "deletable": true,
    "editable": true
   },
   "outputs": [],
   "source": [
    "import tensorflow as tf\n",
    "import google.datalab.ml as ml"
   ]
  },
  {
   "cell_type": "markdown",
   "metadata": {},
   "source": [
    "**Placeholder**: hold the place for a Tensor that will be fed at runtime, in effect becoming an input node"
   ]
  },
  {
   "cell_type": "code",
   "execution_count": 2,
   "metadata": {
    "collapsed": true,
    "deletable": true,
    "editable": true
   },
   "outputs": [],
   "source": [
    "x = tf.placeholder(tf.int32, shape=[3], name='x')\n",
    "y = tf.placeholder(tf.int32, shape=[3], name='y')"
   ]
  },
  {
   "cell_type": "code",
   "execution_count": 3,
   "metadata": {
    "collapsed": true,
    "deletable": true,
    "editable": true
   },
   "outputs": [],
   "source": [
    "sum_x = tf.reduce_sum(x, name=\"sum_x\")\n",
    "prod_y = tf.reduce_prod(y, name=\"prod_y\")"
   ]
  },
  {
   "cell_type": "code",
   "execution_count": 4,
   "metadata": {
    "collapsed": true,
    "deletable": true,
    "editable": true
   },
   "outputs": [],
   "source": [
    "final_div = tf.div(sum_x, prod_y, name=\"final_div\")"
   ]
  },
  {
   "cell_type": "code",
   "execution_count": 5,
   "metadata": {
    "collapsed": false,
    "deletable": true,
    "editable": true
   },
   "outputs": [
    {
     "name": "stdout",
     "output_type": "stream",
     "text": [
      "sum(x):  600\n",
      "prod(y):  7986\n",
      "sum(x) / prod(y): 100\n"
     ]
    }
   ],
   "source": [
    "with tf.Session() as sess:\n",
    "\n",
    "    print \"sum(x): \", sess.run(sum_x, feed_dict={x: [100, 200, 300]})\n",
    "    print \"prod(y): \", sess.run(prod_y, feed_dict={y: [11, 22, 33]})\n",
    "\n",
    "    # This needs both x and y placeholder values for its calculation\n",
    "    print \"sum(x) / prod(y):\", sess.run(final_div, feed_dict={x: [100, 200, 300], y: [1, 2, 3]})"
   ]
  },
  {
   "cell_type": "code",
   "execution_count": 6,
   "metadata": {
    "collapsed": false,
    "deletable": true,
    "editable": true
   },
   "outputs": [
    {
     "data": {
      "text/html": [
       "<p>TensorBoard was started successfully with pid 3478. Click <a href=\"/_proxy/45573/\" target=\"_blank\">here</a> to access it.</p>"
      ]
     },
     "metadata": {},
     "output_type": "display_data"
    }
   ],
   "source": [
    "writer = tf.summary.FileWriter('./SimpleMathWithPlaceholders', sess.graph)\n",
    "writer.close()\n",
    "\n",
    "tensorboard_pid = ml.TensorBoard.start('./SimpleMathWithPlaceholders')"
   ]
  },
  {
   "cell_type": "code",
   "execution_count": 7,
   "metadata": {
    "collapsed": true,
    "deletable": true,
    "editable": true
   },
   "outputs": [],
   "source": [
    "ml.TensorBoard.stop(tensorboard_pid)"
   ]
  },
  {
   "cell_type": "code",
   "execution_count": null,
   "metadata": {
    "collapsed": true
   },
   "outputs": [],
   "source": []
  }
 ],
 "metadata": {
  "kernelspec": {
   "display_name": "Python 2",
   "language": "python",
   "name": "python2"
  },
  "language_info": {
   "codemirror_mode": {
    "name": "ipython",
    "version": 2
   },
   "file_extension": ".py",
   "mimetype": "text/x-python",
   "name": "python",
   "nbconvert_exporter": "python",
   "pygments_lexer": "ipython2",
   "version": "2.7.14"
  }
 },
 "nbformat": 4,
 "nbformat_minor": 2
}
